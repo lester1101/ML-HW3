{
 "cells": [
  {
   "cell_type": "markdown",
   "id": "7b165648",
   "metadata": {},
   "source": [
    "## CMSC 197 - Homework 3\n",
    "#### Lester D. Piorque BSCS IV"
   ]
  },
  {
   "cell_type": "code",
   "execution_count": 1,
   "id": "769ee2e4",
   "metadata": {},
   "outputs": [],
   "source": [
    "import numpy as np\n",
    "import pandas as pd\n",
    "import matplotlib.pyplot as plt\n",
    "\n",
    "%matplotlib inline\n",
    "\n",
    "from sklearn import preprocessing                           # standardization \n",
    "from sklearn.model_selection import train_test_split        # train and test sets \n",
    "from sklearn.metrics import r2_score, mean_squared_error    # r2 scores and MSE  \n",
    "from sklearn.linear_model import LinearRegression           # OLS result"
   ]
  },
  {
   "cell_type": "code",
   "execution_count": 2,
   "id": "a41306b7",
   "metadata": {},
   "outputs": [
    {
     "name": "stdout",
     "output_type": "stream",
     "text": [
      "Size of data: (200, 4)\n"
     ]
    },
    {
     "data": {
      "text/html": [
       "<div>\n",
       "<style scoped>\n",
       "    .dataframe tbody tr th:only-of-type {\n",
       "        vertical-align: middle;\n",
       "    }\n",
       "\n",
       "    .dataframe tbody tr th {\n",
       "        vertical-align: top;\n",
       "    }\n",
       "\n",
       "    .dataframe thead th {\n",
       "        text-align: right;\n",
       "    }\n",
       "</style>\n",
       "<table border=\"1\" class=\"dataframe\">\n",
       "  <thead>\n",
       "    <tr style=\"text-align: right;\">\n",
       "      <th></th>\n",
       "      <th>TV</th>\n",
       "      <th>Radio</th>\n",
       "      <th>Newspaper</th>\n",
       "      <th>Sales</th>\n",
       "    </tr>\n",
       "  </thead>\n",
       "  <tbody>\n",
       "    <tr>\n",
       "      <th>1</th>\n",
       "      <td>230.1</td>\n",
       "      <td>37.8</td>\n",
       "      <td>69.2</td>\n",
       "      <td>22.1</td>\n",
       "    </tr>\n",
       "    <tr>\n",
       "      <th>2</th>\n",
       "      <td>44.5</td>\n",
       "      <td>39.3</td>\n",
       "      <td>45.1</td>\n",
       "      <td>10.4</td>\n",
       "    </tr>\n",
       "    <tr>\n",
       "      <th>3</th>\n",
       "      <td>17.2</td>\n",
       "      <td>45.9</td>\n",
       "      <td>69.3</td>\n",
       "      <td>9.3</td>\n",
       "    </tr>\n",
       "    <tr>\n",
       "      <th>4</th>\n",
       "      <td>151.5</td>\n",
       "      <td>41.3</td>\n",
       "      <td>58.5</td>\n",
       "      <td>18.5</td>\n",
       "    </tr>\n",
       "    <tr>\n",
       "      <th>5</th>\n",
       "      <td>180.8</td>\n",
       "      <td>10.8</td>\n",
       "      <td>58.4</td>\n",
       "      <td>12.9</td>\n",
       "    </tr>\n",
       "  </tbody>\n",
       "</table>\n",
       "</div>"
      ],
      "text/plain": [
       "      TV  Radio  Newspaper  Sales\n",
       "1  230.1   37.8       69.2   22.1\n",
       "2   44.5   39.3       45.1   10.4\n",
       "3   17.2   45.9       69.3    9.3\n",
       "4  151.5   41.3       58.5   18.5\n",
       "5  180.8   10.8       58.4   12.9"
      ]
     },
     "execution_count": 2,
     "metadata": {},
     "output_type": "execute_result"
    }
   ],
   "source": [
    "df = pd.read_csv(\"Advertising.csv\", index_col = 0)          # data from advertising.csv\n",
    "print(\"Size of data:\", df.shape)                            # size of data\n",
    "df.head()"
   ]
  },
  {
   "cell_type": "code",
   "execution_count": 3,
   "id": "32179d34",
   "metadata": {},
   "outputs": [
    {
     "data": {
      "text/html": [
       "<div>\n",
       "<style scoped>\n",
       "    .dataframe tbody tr th:only-of-type {\n",
       "        vertical-align: middle;\n",
       "    }\n",
       "\n",
       "    .dataframe tbody tr th {\n",
       "        vertical-align: top;\n",
       "    }\n",
       "\n",
       "    .dataframe thead th {\n",
       "        text-align: right;\n",
       "    }\n",
       "</style>\n",
       "<table border=\"1\" class=\"dataframe\">\n",
       "  <thead>\n",
       "    <tr style=\"text-align: right;\">\n",
       "      <th></th>\n",
       "      <th>TV</th>\n",
       "      <th>Radio</th>\n",
       "      <th>Newspaper</th>\n",
       "      <th>Sales</th>\n",
       "    </tr>\n",
       "  </thead>\n",
       "  <tbody>\n",
       "    <tr>\n",
       "      <th>count</th>\n",
       "      <td>200.000000</td>\n",
       "      <td>200.000000</td>\n",
       "      <td>200.000000</td>\n",
       "      <td>200.000000</td>\n",
       "    </tr>\n",
       "    <tr>\n",
       "      <th>mean</th>\n",
       "      <td>147.042500</td>\n",
       "      <td>23.264000</td>\n",
       "      <td>30.554000</td>\n",
       "      <td>14.022500</td>\n",
       "    </tr>\n",
       "    <tr>\n",
       "      <th>std</th>\n",
       "      <td>85.854236</td>\n",
       "      <td>14.846809</td>\n",
       "      <td>21.778621</td>\n",
       "      <td>5.217457</td>\n",
       "    </tr>\n",
       "    <tr>\n",
       "      <th>min</th>\n",
       "      <td>0.700000</td>\n",
       "      <td>0.000000</td>\n",
       "      <td>0.300000</td>\n",
       "      <td>1.600000</td>\n",
       "    </tr>\n",
       "    <tr>\n",
       "      <th>25%</th>\n",
       "      <td>74.375000</td>\n",
       "      <td>9.975000</td>\n",
       "      <td>12.750000</td>\n",
       "      <td>10.375000</td>\n",
       "    </tr>\n",
       "    <tr>\n",
       "      <th>50%</th>\n",
       "      <td>149.750000</td>\n",
       "      <td>22.900000</td>\n",
       "      <td>25.750000</td>\n",
       "      <td>12.900000</td>\n",
       "    </tr>\n",
       "    <tr>\n",
       "      <th>75%</th>\n",
       "      <td>218.825000</td>\n",
       "      <td>36.525000</td>\n",
       "      <td>45.100000</td>\n",
       "      <td>17.400000</td>\n",
       "    </tr>\n",
       "    <tr>\n",
       "      <th>max</th>\n",
       "      <td>296.400000</td>\n",
       "      <td>49.600000</td>\n",
       "      <td>114.000000</td>\n",
       "      <td>27.000000</td>\n",
       "    </tr>\n",
       "  </tbody>\n",
       "</table>\n",
       "</div>"
      ],
      "text/plain": [
       "               TV       Radio   Newspaper       Sales\n",
       "count  200.000000  200.000000  200.000000  200.000000\n",
       "mean   147.042500   23.264000   30.554000   14.022500\n",
       "std     85.854236   14.846809   21.778621    5.217457\n",
       "min      0.700000    0.000000    0.300000    1.600000\n",
       "25%     74.375000    9.975000   12.750000   10.375000\n",
       "50%    149.750000   22.900000   25.750000   12.900000\n",
       "75%    218.825000   36.525000   45.100000   17.400000\n",
       "max    296.400000   49.600000  114.000000   27.000000"
      ]
     },
     "execution_count": 3,
     "metadata": {},
     "output_type": "execute_result"
    }
   ],
   "source": [
    "df.describe()               # describe the table"
   ]
  },
  {
   "cell_type": "code",
   "execution_count": 4,
   "id": "425c778e",
   "metadata": {},
   "outputs": [
    {
     "data": {
      "text/html": [
       "<div>\n",
       "<style scoped>\n",
       "    .dataframe tbody tr th:only-of-type {\n",
       "        vertical-align: middle;\n",
       "    }\n",
       "\n",
       "    .dataframe tbody tr th {\n",
       "        vertical-align: top;\n",
       "    }\n",
       "\n",
       "    .dataframe thead th {\n",
       "        text-align: right;\n",
       "    }\n",
       "</style>\n",
       "<table border=\"1\" class=\"dataframe\">\n",
       "  <thead>\n",
       "    <tr style=\"text-align: right;\">\n",
       "      <th></th>\n",
       "      <th>TV</th>\n",
       "      <th>Radio</th>\n",
       "      <th>Newspaper</th>\n",
       "      <th>Sales</th>\n",
       "    </tr>\n",
       "  </thead>\n",
       "  <tbody>\n",
       "    <tr>\n",
       "      <th>TV</th>\n",
       "      <td>1.000000</td>\n",
       "      <td>0.054809</td>\n",
       "      <td>0.056648</td>\n",
       "      <td>0.782224</td>\n",
       "    </tr>\n",
       "    <tr>\n",
       "      <th>Radio</th>\n",
       "      <td>0.054809</td>\n",
       "      <td>1.000000</td>\n",
       "      <td>0.354104</td>\n",
       "      <td>0.576223</td>\n",
       "    </tr>\n",
       "    <tr>\n",
       "      <th>Newspaper</th>\n",
       "      <td>0.056648</td>\n",
       "      <td>0.354104</td>\n",
       "      <td>1.000000</td>\n",
       "      <td>0.228299</td>\n",
       "    </tr>\n",
       "    <tr>\n",
       "      <th>Sales</th>\n",
       "      <td>0.782224</td>\n",
       "      <td>0.576223</td>\n",
       "      <td>0.228299</td>\n",
       "      <td>1.000000</td>\n",
       "    </tr>\n",
       "  </tbody>\n",
       "</table>\n",
       "</div>"
      ],
      "text/plain": [
       "                 TV     Radio  Newspaper     Sales\n",
       "TV         1.000000  0.054809   0.056648  0.782224\n",
       "Radio      0.054809  1.000000   0.354104  0.576223\n",
       "Newspaper  0.056648  0.354104   1.000000  0.228299\n",
       "Sales      0.782224  0.576223   0.228299  1.000000"
      ]
     },
     "execution_count": 4,
     "metadata": {},
     "output_type": "execute_result"
    }
   ],
   "source": [
    "df.corr()"
   ]
  },
  {
   "cell_type": "code",
   "execution_count": 5,
   "id": "3a8e3e7b",
   "metadata": {},
   "outputs": [
    {
     "name": "stdout",
     "output_type": "stream",
     "text": [
      "TV           147.0425\n",
      "Radio         23.2640\n",
      "Newspaper     30.5540\n",
      "Sales         14.0225\n",
      "dtype: float64\n",
      "TV           85.854236\n",
      "Radio        14.846809\n",
      "Newspaper    21.778621\n",
      "Sales         5.217457\n",
      "dtype: float64\n"
     ]
    }
   ],
   "source": [
    "print(df.mean())          # mean of each column in the table\n",
    "print(df.std())           # standard deviation"
   ]
  },
  {
   "cell_type": "markdown",
   "id": "f072d943",
   "metadata": {},
   "source": [
    "# Standardize each column"
   ]
  },
  {
   "cell_type": "code",
   "execution_count": 6,
   "id": "fb628df9",
   "metadata": {},
   "outputs": [
    {
     "data": {
      "text/html": [
       "<div>\n",
       "<style scoped>\n",
       "    .dataframe tbody tr th:only-of-type {\n",
       "        vertical-align: middle;\n",
       "    }\n",
       "\n",
       "    .dataframe tbody tr th {\n",
       "        vertical-align: top;\n",
       "    }\n",
       "\n",
       "    .dataframe thead th {\n",
       "        text-align: right;\n",
       "    }\n",
       "</style>\n",
       "<table border=\"1\" class=\"dataframe\">\n",
       "  <thead>\n",
       "    <tr style=\"text-align: right;\">\n",
       "      <th></th>\n",
       "      <th>TV</th>\n",
       "      <th>Radio</th>\n",
       "      <th>Newspaper</th>\n",
       "      <th>Sales</th>\n",
       "    </tr>\n",
       "  </thead>\n",
       "  <tbody>\n",
       "    <tr>\n",
       "      <th>1</th>\n",
       "      <td>0.967425</td>\n",
       "      <td>0.979066</td>\n",
       "      <td>1.774493</td>\n",
       "      <td>1.548168</td>\n",
       "    </tr>\n",
       "    <tr>\n",
       "      <th>2</th>\n",
       "      <td>-1.194379</td>\n",
       "      <td>1.080097</td>\n",
       "      <td>0.667903</td>\n",
       "      <td>-0.694304</td>\n",
       "    </tr>\n",
       "    <tr>\n",
       "      <th>3</th>\n",
       "      <td>-1.512360</td>\n",
       "      <td>1.524637</td>\n",
       "      <td>1.779084</td>\n",
       "      <td>-0.905135</td>\n",
       "    </tr>\n",
       "    <tr>\n",
       "      <th>4</th>\n",
       "      <td>0.051919</td>\n",
       "      <td>1.214806</td>\n",
       "      <td>1.283185</td>\n",
       "      <td>0.858177</td>\n",
       "    </tr>\n",
       "    <tr>\n",
       "      <th>5</th>\n",
       "      <td>0.393196</td>\n",
       "      <td>-0.839507</td>\n",
       "      <td>1.278593</td>\n",
       "      <td>-0.215143</td>\n",
       "    </tr>\n",
       "    <tr>\n",
       "      <th>...</th>\n",
       "      <td>...</td>\n",
       "      <td>...</td>\n",
       "      <td>...</td>\n",
       "      <td>...</td>\n",
       "    </tr>\n",
       "    <tr>\n",
       "      <th>196</th>\n",
       "      <td>-1.267759</td>\n",
       "      <td>-1.317724</td>\n",
       "      <td>-0.769287</td>\n",
       "      <td>-1.230964</td>\n",
       "    </tr>\n",
       "    <tr>\n",
       "      <th>197</th>\n",
       "      <td>-0.615491</td>\n",
       "      <td>-1.236899</td>\n",
       "      <td>-1.031011</td>\n",
       "      <td>-0.828469</td>\n",
       "    </tr>\n",
       "    <tr>\n",
       "      <th>198</th>\n",
       "      <td>0.348934</td>\n",
       "      <td>-0.940539</td>\n",
       "      <td>-1.109069</td>\n",
       "      <td>-0.234310</td>\n",
       "    </tr>\n",
       "    <tr>\n",
       "      <th>199</th>\n",
       "      <td>1.590574</td>\n",
       "      <td>1.261955</td>\n",
       "      <td>1.636743</td>\n",
       "      <td>2.199827</td>\n",
       "    </tr>\n",
       "    <tr>\n",
       "      <th>200</th>\n",
       "      <td>0.990720</td>\n",
       "      <td>-0.987687</td>\n",
       "      <td>-1.003461</td>\n",
       "      <td>-0.119311</td>\n",
       "    </tr>\n",
       "  </tbody>\n",
       "</table>\n",
       "<p>200 rows × 4 columns</p>\n",
       "</div>"
      ],
      "text/plain": [
       "           TV     Radio  Newspaper     Sales\n",
       "1    0.967425  0.979066   1.774493  1.548168\n",
       "2   -1.194379  1.080097   0.667903 -0.694304\n",
       "3   -1.512360  1.524637   1.779084 -0.905135\n",
       "4    0.051919  1.214806   1.283185  0.858177\n",
       "5    0.393196 -0.839507   1.278593 -0.215143\n",
       "..        ...       ...        ...       ...\n",
       "196 -1.267759 -1.317724  -0.769287 -1.230964\n",
       "197 -0.615491 -1.236899  -1.031011 -0.828469\n",
       "198  0.348934 -0.940539  -1.109069 -0.234310\n",
       "199  1.590574  1.261955   1.636743  2.199827\n",
       "200  0.990720 -0.987687  -1.003461 -0.119311\n",
       "\n",
       "[200 rows x 4 columns]"
      ]
     },
     "execution_count": 6,
     "metadata": {},
     "output_type": "execute_result"
    }
   ],
   "source": [
    "df_copy = df.copy()\n",
    "\n",
    "# standardized values of TV\n",
    "tv_mean = df_copy['TV'].mean()\n",
    "tv_std = df_copy['TV'].std()\n",
    "df_copy['TV'] = (df_copy['TV'] - tv_mean) / tv_std\n",
    "\n",
    "# standardized values of Radio\n",
    "radio_mean = df_copy['Radio'].mean()\n",
    "radio_std = df_copy['Radio'].std()\n",
    "df_copy['Radio'] = (df_copy['Radio'] - radio_mean) / radio_std\n",
    "\n",
    "# standardized values of Newspaper\n",
    "np_mean = df_copy['Newspaper'].mean()\n",
    "np_std = df_copy['Newspaper'].std()\n",
    "df_copy['Newspaper'] = (df_copy['Newspaper'] - np_mean) / np_std\n",
    "\n",
    "# standardized values of Sales\n",
    "sales_mean = df_copy['Sales'].mean()\n",
    "sales_std = df_copy['Sales'].std()\n",
    "df_copy['Sales'] = (df_copy['Sales'] - sales_mean) / sales_std\n",
    "\n",
    "df_copy"
   ]
  },
  {
   "cell_type": "code",
   "execution_count": 7,
   "id": "d11ac030",
   "metadata": {},
   "outputs": [
    {
     "data": {
      "text/html": [
       "<div>\n",
       "<style scoped>\n",
       "    .dataframe tbody tr th:only-of-type {\n",
       "        vertical-align: middle;\n",
       "    }\n",
       "\n",
       "    .dataframe tbody tr th {\n",
       "        vertical-align: top;\n",
       "    }\n",
       "\n",
       "    .dataframe thead th {\n",
       "        text-align: right;\n",
       "    }\n",
       "</style>\n",
       "<table border=\"1\" class=\"dataframe\">\n",
       "  <thead>\n",
       "    <tr style=\"text-align: right;\">\n",
       "      <th></th>\n",
       "      <th>TV</th>\n",
       "      <th>Radio</th>\n",
       "      <th>Newspaper</th>\n",
       "      <th>Sales</th>\n",
       "    </tr>\n",
       "  </thead>\n",
       "  <tbody>\n",
       "    <tr>\n",
       "      <th>0</th>\n",
       "      <td>0.969852</td>\n",
       "      <td>0.981522</td>\n",
       "      <td>1.778945</td>\n",
       "      <td>1.552053</td>\n",
       "    </tr>\n",
       "    <tr>\n",
       "      <th>1</th>\n",
       "      <td>-1.197376</td>\n",
       "      <td>1.082808</td>\n",
       "      <td>0.669579</td>\n",
       "      <td>-0.696046</td>\n",
       "    </tr>\n",
       "    <tr>\n",
       "      <th>2</th>\n",
       "      <td>-1.516155</td>\n",
       "      <td>1.528463</td>\n",
       "      <td>1.783549</td>\n",
       "      <td>-0.907406</td>\n",
       "    </tr>\n",
       "    <tr>\n",
       "      <th>3</th>\n",
       "      <td>0.052050</td>\n",
       "      <td>1.217855</td>\n",
       "      <td>1.286405</td>\n",
       "      <td>0.860330</td>\n",
       "    </tr>\n",
       "    <tr>\n",
       "      <th>4</th>\n",
       "      <td>0.394182</td>\n",
       "      <td>-0.841614</td>\n",
       "      <td>1.281802</td>\n",
       "      <td>-0.215683</td>\n",
       "    </tr>\n",
       "    <tr>\n",
       "      <th>...</th>\n",
       "      <td>...</td>\n",
       "      <td>...</td>\n",
       "      <td>...</td>\n",
       "      <td>...</td>\n",
       "    </tr>\n",
       "    <tr>\n",
       "      <th>195</th>\n",
       "      <td>-1.270941</td>\n",
       "      <td>-1.321031</td>\n",
       "      <td>-0.771217</td>\n",
       "      <td>-1.234053</td>\n",
       "    </tr>\n",
       "    <tr>\n",
       "      <th>196</th>\n",
       "      <td>-0.617035</td>\n",
       "      <td>-1.240003</td>\n",
       "      <td>-1.033598</td>\n",
       "      <td>-0.830548</td>\n",
       "    </tr>\n",
       "    <tr>\n",
       "      <th>197</th>\n",
       "      <td>0.349810</td>\n",
       "      <td>-0.942899</td>\n",
       "      <td>-1.111852</td>\n",
       "      <td>-0.234898</td>\n",
       "    </tr>\n",
       "    <tr>\n",
       "      <th>198</th>\n",
       "      <td>1.594565</td>\n",
       "      <td>1.265121</td>\n",
       "      <td>1.640850</td>\n",
       "      <td>2.205347</td>\n",
       "    </tr>\n",
       "    <tr>\n",
       "      <th>199</th>\n",
       "      <td>0.993206</td>\n",
       "      <td>-0.990165</td>\n",
       "      <td>-1.005979</td>\n",
       "      <td>-0.119610</td>\n",
       "    </tr>\n",
       "  </tbody>\n",
       "</table>\n",
       "<p>200 rows × 4 columns</p>\n",
       "</div>"
      ],
      "text/plain": [
       "           TV     Radio  Newspaper     Sales\n",
       "0    0.969852  0.981522   1.778945  1.552053\n",
       "1   -1.197376  1.082808   0.669579 -0.696046\n",
       "2   -1.516155  1.528463   1.783549 -0.907406\n",
       "3    0.052050  1.217855   1.286405  0.860330\n",
       "4    0.394182 -0.841614   1.281802 -0.215683\n",
       "..        ...       ...        ...       ...\n",
       "195 -1.270941 -1.321031  -0.771217 -1.234053\n",
       "196 -0.617035 -1.240003  -1.033598 -0.830548\n",
       "197  0.349810 -0.942899  -1.111852 -0.234898\n",
       "198  1.594565  1.265121   1.640850  2.205347\n",
       "199  0.993206 -0.990165  -1.005979 -0.119610\n",
       "\n",
       "[200 rows x 4 columns]"
      ]
     },
     "execution_count": 7,
     "metadata": {},
     "output_type": "execute_result"
    }
   ],
   "source": [
    "df_standardize = preprocessing.scale(df)                              # sklearn preprocessing.scale function\n",
    "df_standardize = pd.DataFrame(df_standardize, columns = df.columns)   # standardized values to dataset\n",
    "\n",
    "df_standardize"
   ]
  },
  {
   "cell_type": "code",
   "execution_count": 8,
   "id": "9ccdb6ed",
   "metadata": {},
   "outputs": [
    {
     "data": {
      "text/html": [
       "<div>\n",
       "<style scoped>\n",
       "    .dataframe tbody tr th:only-of-type {\n",
       "        vertical-align: middle;\n",
       "    }\n",
       "\n",
       "    .dataframe tbody tr th {\n",
       "        vertical-align: top;\n",
       "    }\n",
       "\n",
       "    .dataframe thead th {\n",
       "        text-align: right;\n",
       "    }\n",
       "</style>\n",
       "<table border=\"1\" class=\"dataframe\">\n",
       "  <thead>\n",
       "    <tr style=\"text-align: right;\">\n",
       "      <th></th>\n",
       "      <th>bias</th>\n",
       "      <th>TV</th>\n",
       "      <th>Radio</th>\n",
       "      <th>Newspaper</th>\n",
       "      <th>Sales</th>\n",
       "    </tr>\n",
       "  </thead>\n",
       "  <tbody>\n",
       "    <tr>\n",
       "      <th>0</th>\n",
       "      <td>1</td>\n",
       "      <td>0.969852</td>\n",
       "      <td>0.981522</td>\n",
       "      <td>1.778945</td>\n",
       "      <td>1.552053</td>\n",
       "    </tr>\n",
       "    <tr>\n",
       "      <th>1</th>\n",
       "      <td>1</td>\n",
       "      <td>-1.197376</td>\n",
       "      <td>1.082808</td>\n",
       "      <td>0.669579</td>\n",
       "      <td>-0.696046</td>\n",
       "    </tr>\n",
       "    <tr>\n",
       "      <th>2</th>\n",
       "      <td>1</td>\n",
       "      <td>-1.516155</td>\n",
       "      <td>1.528463</td>\n",
       "      <td>1.783549</td>\n",
       "      <td>-0.907406</td>\n",
       "    </tr>\n",
       "    <tr>\n",
       "      <th>3</th>\n",
       "      <td>1</td>\n",
       "      <td>0.052050</td>\n",
       "      <td>1.217855</td>\n",
       "      <td>1.286405</td>\n",
       "      <td>0.860330</td>\n",
       "    </tr>\n",
       "    <tr>\n",
       "      <th>4</th>\n",
       "      <td>1</td>\n",
       "      <td>0.394182</td>\n",
       "      <td>-0.841614</td>\n",
       "      <td>1.281802</td>\n",
       "      <td>-0.215683</td>\n",
       "    </tr>\n",
       "    <tr>\n",
       "      <th>...</th>\n",
       "      <td>...</td>\n",
       "      <td>...</td>\n",
       "      <td>...</td>\n",
       "      <td>...</td>\n",
       "      <td>...</td>\n",
       "    </tr>\n",
       "    <tr>\n",
       "      <th>195</th>\n",
       "      <td>1</td>\n",
       "      <td>-1.270941</td>\n",
       "      <td>-1.321031</td>\n",
       "      <td>-0.771217</td>\n",
       "      <td>-1.234053</td>\n",
       "    </tr>\n",
       "    <tr>\n",
       "      <th>196</th>\n",
       "      <td>1</td>\n",
       "      <td>-0.617035</td>\n",
       "      <td>-1.240003</td>\n",
       "      <td>-1.033598</td>\n",
       "      <td>-0.830548</td>\n",
       "    </tr>\n",
       "    <tr>\n",
       "      <th>197</th>\n",
       "      <td>1</td>\n",
       "      <td>0.349810</td>\n",
       "      <td>-0.942899</td>\n",
       "      <td>-1.111852</td>\n",
       "      <td>-0.234898</td>\n",
       "    </tr>\n",
       "    <tr>\n",
       "      <th>198</th>\n",
       "      <td>1</td>\n",
       "      <td>1.594565</td>\n",
       "      <td>1.265121</td>\n",
       "      <td>1.640850</td>\n",
       "      <td>2.205347</td>\n",
       "    </tr>\n",
       "    <tr>\n",
       "      <th>199</th>\n",
       "      <td>1</td>\n",
       "      <td>0.993206</td>\n",
       "      <td>-0.990165</td>\n",
       "      <td>-1.005979</td>\n",
       "      <td>-0.119610</td>\n",
       "    </tr>\n",
       "  </tbody>\n",
       "</table>\n",
       "<p>200 rows × 5 columns</p>\n",
       "</div>"
      ],
      "text/plain": [
       "     bias        TV     Radio  Newspaper     Sales\n",
       "0       1  0.969852  0.981522   1.778945  1.552053\n",
       "1       1 -1.197376  1.082808   0.669579 -0.696046\n",
       "2       1 -1.516155  1.528463   1.783549 -0.907406\n",
       "3       1  0.052050  1.217855   1.286405  0.860330\n",
       "4       1  0.394182 -0.841614   1.281802 -0.215683\n",
       "..    ...       ...       ...        ...       ...\n",
       "195     1 -1.270941 -1.321031  -0.771217 -1.234053\n",
       "196     1 -0.617035 -1.240003  -1.033598 -0.830548\n",
       "197     1  0.349810 -0.942899  -1.111852 -0.234898\n",
       "198     1  1.594565  1.265121   1.640850  2.205347\n",
       "199     1  0.993206 -0.990165  -1.005979 -0.119610\n",
       "\n",
       "[200 rows x 5 columns]"
      ]
     },
     "execution_count": 8,
     "metadata": {},
     "output_type": "execute_result"
    }
   ],
   "source": [
    "df_standardize.insert(0, 'bias', 1)                 # inserting bias\n",
    "df_standardize"
   ]
  },
  {
   "cell_type": "code",
   "execution_count": 9,
   "id": "7066eeb3",
   "metadata": {},
   "outputs": [
    {
     "data": {
      "text/html": [
       "<div>\n",
       "<style scoped>\n",
       "    .dataframe tbody tr th:only-of-type {\n",
       "        vertical-align: middle;\n",
       "    }\n",
       "\n",
       "    .dataframe tbody tr th {\n",
       "        vertical-align: top;\n",
       "    }\n",
       "\n",
       "    .dataframe thead th {\n",
       "        text-align: right;\n",
       "    }\n",
       "</style>\n",
       "<table border=\"1\" class=\"dataframe\">\n",
       "  <thead>\n",
       "    <tr style=\"text-align: right;\">\n",
       "      <th></th>\n",
       "      <th>bias</th>\n",
       "      <th>TV</th>\n",
       "      <th>Radio</th>\n",
       "      <th>Newspaper</th>\n",
       "    </tr>\n",
       "  </thead>\n",
       "  <tbody>\n",
       "    <tr>\n",
       "      <th>0</th>\n",
       "      <td>1</td>\n",
       "      <td>0.969852</td>\n",
       "      <td>0.981522</td>\n",
       "      <td>1.778945</td>\n",
       "    </tr>\n",
       "    <tr>\n",
       "      <th>1</th>\n",
       "      <td>1</td>\n",
       "      <td>-1.197376</td>\n",
       "      <td>1.082808</td>\n",
       "      <td>0.669579</td>\n",
       "    </tr>\n",
       "    <tr>\n",
       "      <th>2</th>\n",
       "      <td>1</td>\n",
       "      <td>-1.516155</td>\n",
       "      <td>1.528463</td>\n",
       "      <td>1.783549</td>\n",
       "    </tr>\n",
       "    <tr>\n",
       "      <th>3</th>\n",
       "      <td>1</td>\n",
       "      <td>0.052050</td>\n",
       "      <td>1.217855</td>\n",
       "      <td>1.286405</td>\n",
       "    </tr>\n",
       "    <tr>\n",
       "      <th>4</th>\n",
       "      <td>1</td>\n",
       "      <td>0.394182</td>\n",
       "      <td>-0.841614</td>\n",
       "      <td>1.281802</td>\n",
       "    </tr>\n",
       "    <tr>\n",
       "      <th>...</th>\n",
       "      <td>...</td>\n",
       "      <td>...</td>\n",
       "      <td>...</td>\n",
       "      <td>...</td>\n",
       "    </tr>\n",
       "    <tr>\n",
       "      <th>195</th>\n",
       "      <td>1</td>\n",
       "      <td>-1.270941</td>\n",
       "      <td>-1.321031</td>\n",
       "      <td>-0.771217</td>\n",
       "    </tr>\n",
       "    <tr>\n",
       "      <th>196</th>\n",
       "      <td>1</td>\n",
       "      <td>-0.617035</td>\n",
       "      <td>-1.240003</td>\n",
       "      <td>-1.033598</td>\n",
       "    </tr>\n",
       "    <tr>\n",
       "      <th>197</th>\n",
       "      <td>1</td>\n",
       "      <td>0.349810</td>\n",
       "      <td>-0.942899</td>\n",
       "      <td>-1.111852</td>\n",
       "    </tr>\n",
       "    <tr>\n",
       "      <th>198</th>\n",
       "      <td>1</td>\n",
       "      <td>1.594565</td>\n",
       "      <td>1.265121</td>\n",
       "      <td>1.640850</td>\n",
       "    </tr>\n",
       "    <tr>\n",
       "      <th>199</th>\n",
       "      <td>1</td>\n",
       "      <td>0.993206</td>\n",
       "      <td>-0.990165</td>\n",
       "      <td>-1.005979</td>\n",
       "    </tr>\n",
       "  </tbody>\n",
       "</table>\n",
       "<p>200 rows × 4 columns</p>\n",
       "</div>"
      ],
      "text/plain": [
       "     bias        TV     Radio  Newspaper\n",
       "0       1  0.969852  0.981522   1.778945\n",
       "1       1 -1.197376  1.082808   0.669579\n",
       "2       1 -1.516155  1.528463   1.783549\n",
       "3       1  0.052050  1.217855   1.286405\n",
       "4       1  0.394182 -0.841614   1.281802\n",
       "..    ...       ...       ...        ...\n",
       "195     1 -1.270941 -1.321031  -0.771217\n",
       "196     1 -0.617035 -1.240003  -1.033598\n",
       "197     1  0.349810 -0.942899  -1.111852\n",
       "198     1  1.594565  1.265121   1.640850\n",
       "199     1  0.993206 -0.990165  -1.005979\n",
       "\n",
       "[200 rows x 4 columns]"
      ]
     },
     "execution_count": 9,
     "metadata": {},
     "output_type": "execute_result"
    }
   ],
   "source": [
    "x = df_standardize[[\"bias\", \"TV\", \"Radio\", \"Newspaper\"]]    # setting the features as x\n",
    "y = df_standardize[\"Sales\"]                                 # sales as y\n",
    "x"
   ]
  },
  {
   "cell_type": "code",
   "execution_count": 10,
   "id": "1eed4712",
   "metadata": {},
   "outputs": [
    {
     "name": "stdout",
     "output_type": "stream",
     "text": [
      "x_train size: (150, 4)\n",
      "y_train size: (150,)\n",
      "\n",
      "x_test size: (50, 4)\n",
      "y_test size: (50,)\n"
     ]
    }
   ],
   "source": [
    "# dividing the data into training and testing, 0.75 and 0.25\n",
    "x_train, x_test, y_train, y_test = train_test_split(x, y, train_size = 0.75, test_size = 0.25)\n",
    "print(\"x_train size:\", x_train.shape)\n",
    "print(\"y_train size:\", y_train.shape)\n",
    "print(\"\\nx_test size:\", x_test.shape)\n",
    "print(\"y_test size:\", y_test.shape)"
   ]
  },
  {
   "cell_type": "markdown",
   "id": "c3c8701f",
   "metadata": {},
   "source": [
    "# Fitting the model on the training set"
   ]
  },
  {
   "cell_type": "markdown",
   "id": "eee214b8",
   "metadata": {},
   "source": [
    "### initialize_weights"
   ]
  },
  {
   "cell_type": "code",
   "execution_count": 11,
   "id": "7d7b7dec",
   "metadata": {},
   "outputs": [],
   "source": [
    "def initialize_weights(x_val, random = False):\n",
    "    x_val_len = x_val.shape[1]                     # weight length is the number of columns in x \n",
    "    if random:                                     # initialized radomly if random length\n",
    "        return np.random.rand(x_val_len)\n",
    "    return np.zeros(x_val_len)                     # or initialized to zero"
   ]
  },
  {
   "cell_type": "code",
   "execution_count": 12,
   "id": "1a962f74",
   "metadata": {},
   "outputs": [
    {
     "data": {
      "text/plain": [
       "array([0., 0., 0., 0.])"
      ]
     },
     "execution_count": 12,
     "metadata": {},
     "output_type": "execute_result"
    }
   ],
   "source": [
    "init_w = initialize_weights(x_train)\n",
    "init_w"
   ]
  },
  {
   "cell_type": "markdown",
   "id": "34b18389",
   "metadata": {},
   "source": [
    "### predict"
   ]
  },
  {
   "cell_type": "code",
   "execution_count": 13,
   "id": "1bf1328d",
   "metadata": {},
   "outputs": [],
   "source": [
    "def predict(x_val, init_w):\n",
    "    return np.dot(x_val, init_w)                      # multiply the x value to the weights"
   ]
  },
  {
   "cell_type": "code",
   "execution_count": 15,
   "id": "b2f3f7a7",
   "metadata": {},
   "outputs": [
    {
     "data": {
      "text/html": [
       "<div>\n",
       "<style scoped>\n",
       "    .dataframe tbody tr th:only-of-type {\n",
       "        vertical-align: middle;\n",
       "    }\n",
       "\n",
       "    .dataframe tbody tr th {\n",
       "        vertical-align: top;\n",
       "    }\n",
       "\n",
       "    .dataframe thead th {\n",
       "        text-align: right;\n",
       "    }\n",
       "</style>\n",
       "<table border=\"1\" class=\"dataframe\">\n",
       "  <thead>\n",
       "    <tr style=\"text-align: right;\">\n",
       "      <th></th>\n",
       "      <th>Actual Values</th>\n",
       "      <th>Predicted Values</th>\n",
       "    </tr>\n",
       "  </thead>\n",
       "  <tbody>\n",
       "    <tr>\n",
       "      <th>53</th>\n",
       "      <td>1.379122</td>\n",
       "      <td>2.207430</td>\n",
       "    </tr>\n",
       "    <tr>\n",
       "      <th>101</th>\n",
       "      <td>1.878700</td>\n",
       "      <td>2.835096</td>\n",
       "    </tr>\n",
       "    <tr>\n",
       "      <th>129</th>\n",
       "      <td>-0.830548</td>\n",
       "      <td>-0.662824</td>\n",
       "    </tr>\n",
       "    <tr>\n",
       "      <th>196</th>\n",
       "      <td>-0.830548</td>\n",
       "      <td>-1.462700</td>\n",
       "    </tr>\n",
       "    <tr>\n",
       "      <th>159</th>\n",
       "      <td>-0.215683</td>\n",
       "      <td>-0.065293</td>\n",
       "    </tr>\n",
       "    <tr>\n",
       "      <th>...</th>\n",
       "      <td>...</td>\n",
       "      <td>...</td>\n",
       "    </tr>\n",
       "    <tr>\n",
       "      <th>179</th>\n",
       "      <td>-0.273327</td>\n",
       "      <td>-0.664031</td>\n",
       "    </tr>\n",
       "    <tr>\n",
       "      <th>89</th>\n",
       "      <td>0.514469</td>\n",
       "      <td>1.833487</td>\n",
       "    </tr>\n",
       "    <tr>\n",
       "      <th>99</th>\n",
       "      <td>0.610541</td>\n",
       "      <td>1.509590</td>\n",
       "    </tr>\n",
       "    <tr>\n",
       "      <th>92</th>\n",
       "      <td>1.033261</td>\n",
       "      <td>1.630316</td>\n",
       "    </tr>\n",
       "    <tr>\n",
       "      <th>114</th>\n",
       "      <td>0.110964</td>\n",
       "      <td>1.355913</td>\n",
       "    </tr>\n",
       "  </tbody>\n",
       "</table>\n",
       "<p>150 rows × 2 columns</p>\n",
       "</div>"
      ],
      "text/plain": [
       "     Actual Values  Predicted Values\n",
       "53        1.379122          2.207430\n",
       "101       1.878700          2.835096\n",
       "129      -0.830548         -0.662824\n",
       "196      -0.830548         -1.462700\n",
       "159      -0.215683         -0.065293\n",
       "..             ...               ...\n",
       "179      -0.273327         -0.664031\n",
       "89        0.514469          1.833487\n",
       "99        0.610541          1.509590\n",
       "92        1.033261          1.630316\n",
       "114       0.110964          1.355913\n",
       "\n",
       "[150 rows x 2 columns]"
      ]
     },
     "execution_count": 15,
     "metadata": {},
     "output_type": "execute_result"
    }
   ],
   "source": [
    "# predicting the training values given the set of weights\n",
    "y_hat_train = predict(x_train, initialize_weights(x_train, random = True))\n",
    "\n",
    "# comparing predicted and actual values\n",
    "df_train = pd.DataFrame({'Actual Values': y_train, 'Predicted Values': y_hat_train})\n",
    "df_train"
   ]
  },
  {
   "cell_type": "markdown",
   "id": "a52cedf3",
   "metadata": {},
   "source": [
    "### compute_cost"
   ]
  },
  {
   "cell_type": "code",
   "execution_count": 16,
   "id": "8b90276b",
   "metadata": {},
   "outputs": [],
   "source": [
    "def compute_cost(x_val, y, init_w):  \n",
    "    sale_len = len(y)                 # length of response\n",
    "    \n",
    "    cost_function = 1/(2*sale_len) * np.sum((predict(x_val, init_w) - y)**2)\n",
    "    return cost_function              # getting the cost formula"
   ]
  },
  {
   "cell_type": "code",
   "execution_count": 17,
   "id": "43573067",
   "metadata": {},
   "outputs": [
    {
     "name": "stdout",
     "output_type": "stream",
     "text": [
      "0.19372362074313507\n"
     ]
    }
   ],
   "source": [
    "#Print the cost function of the training set utilizing a random set of weights\n",
    "cost_test = compute_cost(x_train, y_train, initialize_weights(x_train, random = True))\n",
    "print(cost_test)"
   ]
  },
  {
   "cell_type": "markdown",
   "id": "3147b5f1",
   "metadata": {},
   "source": [
    "### compute_gradient"
   ]
  },
  {
   "cell_type": "code",
   "execution_count": 18,
   "id": "381da69f",
   "metadata": {},
   "outputs": [],
   "source": [
    "def compute_gradient(x_val, y, init_w):\n",
    "    sale_len = len(y)               # length of sale\n",
    "    w = 1/sale_len * np.dot(x_val.T, (predict(x_val, init_w) - y))\n",
    "\n",
    "    return w     # return matrix w"
   ]
  },
  {
   "cell_type": "markdown",
   "id": "8a1c8b91",
   "metadata": {},
   "source": [
    "### update_weights"
   ]
  },
  {
   "cell_type": "code",
   "execution_count": 19,
   "id": "835cba10",
   "metadata": {},
   "outputs": [],
   "source": [
    "def update_weights(x_val, y, init_w, alpha):   # incrementing the weights\n",
    "    return init_w - alpha * compute_gradient(x_val, y, init_w)"
   ]
  },
  {
   "cell_type": "markdown",
   "id": "666aeb5f",
   "metadata": {},
   "source": [
    "### grad_descent"
   ]
  },
  {
   "cell_type": "code",
   "execution_count": 20,
   "id": "62a5623f",
   "metadata": {},
   "outputs": [],
   "source": [
    "def grad_descent(x_val, y, init_w, alpha, iterations):      # return two matrices\n",
    "    weights_matrix = [0] * iterations\n",
    "    cost_matrix = [0] * iterations\n",
    "\n",
    "    for i in range(iterations):                             # for loop in the number of iterations, batch gradient descent \n",
    "        init_w = update_weights(x_val, y, init_w, alpha)    # changing weights\n",
    "        weights_matrix[i] = init_w                          # store the weights in the weights_matrix\n",
    "        cost = compute_cost(x_val, y, init_w)               # compute cost\n",
    "        cost_matrix[i] = cost                               # store the cost in the cost_matrix\n",
    "    \n",
    "    return weights_matrix, cost_matrix                      # returns two matrices"
   ]
  },
  {
   "cell_type": "markdown",
   "id": "d21a4a61",
   "metadata": {},
   "source": [
    "### plot_costs"
   ]
  },
  {
   "cell_type": "code",
   "execution_count": 21,
   "id": "c461d36d",
   "metadata": {},
   "outputs": [],
   "source": [
    "def plot_costs(cost_array):                                 # plots the cost as a function of iteration\n",
    "    plt.figure(figsize=(15,8))\n",
    "    plt.plot(cost_array)\n",
    "    plt.xlabel('Iterations')\n",
    "    plt.ylabel('Cost')\n",
    "    plt.title('Cost over Iterations')\n",
    "    plt.show()"
   ]
  },
  {
   "cell_type": "markdown",
   "id": "64aa5af8",
   "metadata": {},
   "source": [
    "### Predict y for train set and calculate the cost"
   ]
  },
  {
   "cell_type": "code",
   "execution_count": 22,
   "id": "75ae1814",
   "metadata": {},
   "outputs": [
    {
     "data": {
      "text/html": [
       "<div>\n",
       "<style scoped>\n",
       "    .dataframe tbody tr th:only-of-type {\n",
       "        vertical-align: middle;\n",
       "    }\n",
       "\n",
       "    .dataframe tbody tr th {\n",
       "        vertical-align: top;\n",
       "    }\n",
       "\n",
       "    .dataframe thead th {\n",
       "        text-align: right;\n",
       "    }\n",
       "</style>\n",
       "<table border=\"1\" class=\"dataframe\">\n",
       "  <thead>\n",
       "    <tr style=\"text-align: right;\">\n",
       "      <th></th>\n",
       "      <th>Actual Values</th>\n",
       "      <th>Predicted Values</th>\n",
       "    </tr>\n",
       "  </thead>\n",
       "  <tbody>\n",
       "    <tr>\n",
       "      <th>53</th>\n",
       "      <td>1.379122</td>\n",
       "      <td>1.334775</td>\n",
       "    </tr>\n",
       "    <tr>\n",
       "      <th>101</th>\n",
       "      <td>1.878700</td>\n",
       "      <td>2.042156</td>\n",
       "    </tr>\n",
       "    <tr>\n",
       "      <th>129</th>\n",
       "      <td>-0.830548</td>\n",
       "      <td>0.273361</td>\n",
       "    </tr>\n",
       "    <tr>\n",
       "      <th>196</th>\n",
       "      <td>-0.830548</td>\n",
       "      <td>0.081191</td>\n",
       "    </tr>\n",
       "    <tr>\n",
       "      <th>159</th>\n",
       "      <td>-0.215683</td>\n",
       "      <td>0.604052</td>\n",
       "    </tr>\n",
       "    <tr>\n",
       "      <th>...</th>\n",
       "      <td>...</td>\n",
       "      <td>...</td>\n",
       "    </tr>\n",
       "    <tr>\n",
       "      <th>179</th>\n",
       "      <td>-0.273327</td>\n",
       "      <td>0.528992</td>\n",
       "    </tr>\n",
       "    <tr>\n",
       "      <th>89</th>\n",
       "      <td>0.514469</td>\n",
       "      <td>0.975268</td>\n",
       "    </tr>\n",
       "    <tr>\n",
       "      <th>99</th>\n",
       "      <td>0.610541</td>\n",
       "      <td>0.975703</td>\n",
       "    </tr>\n",
       "    <tr>\n",
       "      <th>92</th>\n",
       "      <td>1.033261</td>\n",
       "      <td>1.345085</td>\n",
       "    </tr>\n",
       "    <tr>\n",
       "      <th>114</th>\n",
       "      <td>0.110964</td>\n",
       "      <td>0.696251</td>\n",
       "    </tr>\n",
       "  </tbody>\n",
       "</table>\n",
       "<p>150 rows × 2 columns</p>\n",
       "</div>"
      ],
      "text/plain": [
       "     Actual Values  Predicted Values\n",
       "53        1.379122          1.334775\n",
       "101       1.878700          2.042156\n",
       "129      -0.830548          0.273361\n",
       "196      -0.830548          0.081191\n",
       "159      -0.215683          0.604052\n",
       "..             ...               ...\n",
       "179      -0.273327          0.528992\n",
       "89        0.514469          0.975268\n",
       "99        0.610541          0.975703\n",
       "92        1.033261          1.345085\n",
       "114       0.110964          0.696251\n",
       "\n",
       "[150 rows x 2 columns]"
      ]
     },
     "execution_count": 22,
     "metadata": {},
     "output_type": "execute_result"
    }
   ],
   "source": [
    "init_w = initialize_weights(x_train, random = True)\n",
    "y_hat_train = predict(x_train, init_w)\n",
    "y_hat_train_df = pd.DataFrame({'Actual Values': y_train, 'Predicted Values': y_hat_train})\n",
    "y_hat_train_df"
   ]
  },
  {
   "cell_type": "code",
   "execution_count": 23,
   "id": "f734fef6",
   "metadata": {},
   "outputs": [
    {
     "name": "stdout",
     "output_type": "stream",
     "text": [
      "Cost of the predicted values: 0.40203650504703037\n"
     ]
    }
   ],
   "source": [
    "train_cost = compute_cost(x_train, y_train, init_w)\n",
    "train_cost\n",
    "print(\"Cost of the predicted values:\", train_cost)"
   ]
  },
  {
   "cell_type": "markdown",
   "id": "92c1db59",
   "metadata": {},
   "source": [
    "### Predict y for test set and calculate the cost"
   ]
  },
  {
   "cell_type": "code",
   "execution_count": 24,
   "id": "720b2362",
   "metadata": {},
   "outputs": [
    {
     "data": {
      "text/html": [
       "<div>\n",
       "<style scoped>\n",
       "    .dataframe tbody tr th:only-of-type {\n",
       "        vertical-align: middle;\n",
       "    }\n",
       "\n",
       "    .dataframe tbody tr th {\n",
       "        vertical-align: top;\n",
       "    }\n",
       "\n",
       "    .dataframe thead th {\n",
       "        text-align: right;\n",
       "    }\n",
       "</style>\n",
       "<table border=\"1\" class=\"dataframe\">\n",
       "  <thead>\n",
       "    <tr style=\"text-align: right;\">\n",
       "      <th></th>\n",
       "      <th>Actual Values</th>\n",
       "      <th>Predicted Values</th>\n",
       "      <th>Residual Values</th>\n",
       "    </tr>\n",
       "  </thead>\n",
       "  <tbody>\n",
       "    <tr>\n",
       "      <th>81</th>\n",
       "      <td>-0.330970</td>\n",
       "      <td>1.138251</td>\n",
       "      <td>-1.469221</td>\n",
       "    </tr>\n",
       "    <tr>\n",
       "      <th>1</th>\n",
       "      <td>-0.696046</td>\n",
       "      <td>0.194166</td>\n",
       "      <td>-0.890212</td>\n",
       "    </tr>\n",
       "    <tr>\n",
       "      <th>132</th>\n",
       "      <td>-1.599129</td>\n",
       "      <td>-0.639273</td>\n",
       "      <td>-0.959856</td>\n",
       "    </tr>\n",
       "    <tr>\n",
       "      <th>13</th>\n",
       "      <td>-0.830548</td>\n",
       "      <td>-0.084046</td>\n",
       "      <td>-0.746502</td>\n",
       "    </tr>\n",
       "    <tr>\n",
       "      <th>176</th>\n",
       "      <td>1.186977</td>\n",
       "      <td>0.969678</td>\n",
       "      <td>0.217299</td>\n",
       "    </tr>\n",
       "    <tr>\n",
       "      <th>144</th>\n",
       "      <td>-0.503901</td>\n",
       "      <td>0.372596</td>\n",
       "      <td>-0.876497</td>\n",
       "    </tr>\n",
       "    <tr>\n",
       "      <th>126</th>\n",
       "      <td>-1.426198</td>\n",
       "      <td>0.067752</td>\n",
       "      <td>-1.493950</td>\n",
       "    </tr>\n",
       "    <tr>\n",
       "      <th>62</th>\n",
       "      <td>0.322324</td>\n",
       "      <td>1.006879</td>\n",
       "      <td>-0.684555</td>\n",
       "    </tr>\n",
       "    <tr>\n",
       "      <th>156</th>\n",
       "      <td>0.245466</td>\n",
       "      <td>0.552360</td>\n",
       "      <td>-0.306894</td>\n",
       "    </tr>\n",
       "    <tr>\n",
       "      <th>36</th>\n",
       "      <td>2.186132</td>\n",
       "      <td>0.864322</td>\n",
       "      <td>1.321810</td>\n",
       "    </tr>\n",
       "    <tr>\n",
       "      <th>95</th>\n",
       "      <td>0.552898</td>\n",
       "      <td>0.965083</td>\n",
       "      <td>-0.412185</td>\n",
       "    </tr>\n",
       "    <tr>\n",
       "      <th>17</th>\n",
       "      <td>1.993987</td>\n",
       "      <td>1.675127</td>\n",
       "      <td>0.318860</td>\n",
       "    </tr>\n",
       "    <tr>\n",
       "      <th>149</th>\n",
       "      <td>-0.753690</td>\n",
       "      <td>-0.170229</td>\n",
       "      <td>-0.583461</td>\n",
       "    </tr>\n",
       "    <tr>\n",
       "      <th>94</th>\n",
       "      <td>-0.484686</td>\n",
       "      <td>0.030405</td>\n",
       "      <td>-0.515092</td>\n",
       "    </tr>\n",
       "    <tr>\n",
       "      <th>185</th>\n",
       "      <td>1.648126</td>\n",
       "      <td>0.729684</td>\n",
       "      <td>0.918442</td>\n",
       "    </tr>\n",
       "    <tr>\n",
       "      <th>187</th>\n",
       "      <td>0.629756</td>\n",
       "      <td>0.617264</td>\n",
       "      <td>0.012492</td>\n",
       "    </tr>\n",
       "    <tr>\n",
       "      <th>84</th>\n",
       "      <td>1.475195</td>\n",
       "      <td>0.980408</td>\n",
       "      <td>0.494787</td>\n",
       "    </tr>\n",
       "    <tr>\n",
       "      <th>91</th>\n",
       "      <td>-1.291696</td>\n",
       "      <td>-0.102691</td>\n",
       "      <td>-1.189005</td>\n",
       "    </tr>\n",
       "    <tr>\n",
       "      <th>178</th>\n",
       "      <td>-0.427043</td>\n",
       "      <td>1.152703</td>\n",
       "      <td>-1.579745</td>\n",
       "    </tr>\n",
       "    <tr>\n",
       "      <th>14</th>\n",
       "      <td>0.956403</td>\n",
       "      <td>1.095031</td>\n",
       "      <td>-0.138628</td>\n",
       "    </tr>\n",
       "    <tr>\n",
       "      <th>121</th>\n",
       "      <td>-1.349340</td>\n",
       "      <td>0.111350</td>\n",
       "      <td>-1.460690</td>\n",
       "    </tr>\n",
       "    <tr>\n",
       "      <th>78</th>\n",
       "      <td>-1.675987</td>\n",
       "      <td>-0.548320</td>\n",
       "      <td>-1.127667</td>\n",
       "    </tr>\n",
       "    <tr>\n",
       "      <th>43</th>\n",
       "      <td>-0.215683</td>\n",
       "      <td>0.806270</td>\n",
       "      <td>-1.021953</td>\n",
       "    </tr>\n",
       "    <tr>\n",
       "      <th>133</th>\n",
       "      <td>1.071690</td>\n",
       "      <td>1.170459</td>\n",
       "      <td>-0.098769</td>\n",
       "    </tr>\n",
       "    <tr>\n",
       "      <th>123</th>\n",
       "      <td>0.226251</td>\n",
       "      <td>0.158032</td>\n",
       "      <td>0.068219</td>\n",
       "    </tr>\n",
       "    <tr>\n",
       "      <th>127</th>\n",
       "      <td>-1.003478</td>\n",
       "      <td>-0.158696</td>\n",
       "      <td>-0.844782</td>\n",
       "    </tr>\n",
       "    <tr>\n",
       "      <th>39</th>\n",
       "      <td>1.436766</td>\n",
       "      <td>1.030949</td>\n",
       "      <td>0.405817</td>\n",
       "    </tr>\n",
       "    <tr>\n",
       "      <th>134</th>\n",
       "      <td>-0.619188</td>\n",
       "      <td>0.446929</td>\n",
       "      <td>-1.066117</td>\n",
       "    </tr>\n",
       "    <tr>\n",
       "      <th>12</th>\n",
       "      <td>-0.926620</td>\n",
       "      <td>0.374850</td>\n",
       "      <td>-1.301470</td>\n",
       "    </tr>\n",
       "    <tr>\n",
       "      <th>115</th>\n",
       "      <td>-0.273327</td>\n",
       "      <td>0.471409</td>\n",
       "      <td>-0.744736</td>\n",
       "    </tr>\n",
       "    <tr>\n",
       "      <th>128</th>\n",
       "      <td>2.051631</td>\n",
       "      <td>0.582022</td>\n",
       "      <td>1.469609</td>\n",
       "    </tr>\n",
       "    <tr>\n",
       "      <th>6</th>\n",
       "      <td>-0.427043</td>\n",
       "      <td>-0.050564</td>\n",
       "      <td>-0.376479</td>\n",
       "    </tr>\n",
       "    <tr>\n",
       "      <th>86</th>\n",
       "      <td>-0.388614</td>\n",
       "      <td>-0.058233</td>\n",
       "      <td>-0.330381</td>\n",
       "    </tr>\n",
       "    <tr>\n",
       "      <th>112</th>\n",
       "      <td>0.014891</td>\n",
       "      <td>0.291298</td>\n",
       "      <td>-0.276407</td>\n",
       "    </tr>\n",
       "    <tr>\n",
       "      <th>191</th>\n",
       "      <td>-0.792119</td>\n",
       "      <td>-0.221722</td>\n",
       "      <td>-0.570396</td>\n",
       "    </tr>\n",
       "    <tr>\n",
       "      <th>168</th>\n",
       "      <td>0.591327</td>\n",
       "      <td>1.317579</td>\n",
       "      <td>-0.726252</td>\n",
       "    </tr>\n",
       "    <tr>\n",
       "      <th>137</th>\n",
       "      <td>1.302264</td>\n",
       "      <td>1.678927</td>\n",
       "      <td>-0.376662</td>\n",
       "    </tr>\n",
       "    <tr>\n",
       "      <th>52</th>\n",
       "      <td>1.648126</td>\n",
       "      <td>1.079228</td>\n",
       "      <td>0.568898</td>\n",
       "    </tr>\n",
       "    <tr>\n",
       "      <th>29</th>\n",
       "      <td>-0.676832</td>\n",
       "      <td>0.257760</td>\n",
       "      <td>-0.934591</td>\n",
       "    </tr>\n",
       "    <tr>\n",
       "      <th>5</th>\n",
       "      <td>-1.310911</td>\n",
       "      <td>0.433789</td>\n",
       "      <td>-1.744700</td>\n",
       "    </tr>\n",
       "    <tr>\n",
       "      <th>31</th>\n",
       "      <td>-0.407828</td>\n",
       "      <td>0.464039</td>\n",
       "      <td>-0.871868</td>\n",
       "    </tr>\n",
       "    <tr>\n",
       "      <th>170</th>\n",
       "      <td>-1.080337</td>\n",
       "      <td>-0.184779</td>\n",
       "      <td>-0.895558</td>\n",
       "    </tr>\n",
       "    <tr>\n",
       "      <th>51</th>\n",
       "      <td>-0.638403</td>\n",
       "      <td>-0.118023</td>\n",
       "      <td>-0.520380</td>\n",
       "    </tr>\n",
       "    <tr>\n",
       "      <th>122</th>\n",
       "      <td>-0.465472</td>\n",
       "      <td>0.740833</td>\n",
       "      <td>-1.206305</td>\n",
       "    </tr>\n",
       "    <tr>\n",
       "      <th>167</th>\n",
       "      <td>-0.350185</td>\n",
       "      <td>0.701854</td>\n",
       "      <td>-1.052039</td>\n",
       "    </tr>\n",
       "    <tr>\n",
       "      <th>73</th>\n",
       "      <td>-0.580759</td>\n",
       "      <td>0.440764</td>\n",
       "      <td>-1.021523</td>\n",
       "    </tr>\n",
       "    <tr>\n",
       "      <th>108</th>\n",
       "      <td>-1.675987</td>\n",
       "      <td>-0.297252</td>\n",
       "      <td>-1.378735</td>\n",
       "    </tr>\n",
       "    <tr>\n",
       "      <th>151</th>\n",
       "      <td>-0.465472</td>\n",
       "      <td>0.647283</td>\n",
       "      <td>-1.112755</td>\n",
       "    </tr>\n",
       "    <tr>\n",
       "      <th>40</th>\n",
       "      <td>0.495254</td>\n",
       "      <td>0.868901</td>\n",
       "      <td>-0.373647</td>\n",
       "    </tr>\n",
       "    <tr>\n",
       "      <th>119</th>\n",
       "      <td>-1.426198</td>\n",
       "      <td>-0.295927</td>\n",
       "      <td>-1.130271</td>\n",
       "    </tr>\n",
       "  </tbody>\n",
       "</table>\n",
       "</div>"
      ],
      "text/plain": [
       "     Actual Values  Predicted Values  Residual Values\n",
       "81       -0.330970          1.138251        -1.469221\n",
       "1        -0.696046          0.194166        -0.890212\n",
       "132      -1.599129         -0.639273        -0.959856\n",
       "13       -0.830548         -0.084046        -0.746502\n",
       "176       1.186977          0.969678         0.217299\n",
       "144      -0.503901          0.372596        -0.876497\n",
       "126      -1.426198          0.067752        -1.493950\n",
       "62        0.322324          1.006879        -0.684555\n",
       "156       0.245466          0.552360        -0.306894\n",
       "36        2.186132          0.864322         1.321810\n",
       "95        0.552898          0.965083        -0.412185\n",
       "17        1.993987          1.675127         0.318860\n",
       "149      -0.753690         -0.170229        -0.583461\n",
       "94       -0.484686          0.030405        -0.515092\n",
       "185       1.648126          0.729684         0.918442\n",
       "187       0.629756          0.617264         0.012492\n",
       "84        1.475195          0.980408         0.494787\n",
       "91       -1.291696         -0.102691        -1.189005\n",
       "178      -0.427043          1.152703        -1.579745\n",
       "14        0.956403          1.095031        -0.138628\n",
       "121      -1.349340          0.111350        -1.460690\n",
       "78       -1.675987         -0.548320        -1.127667\n",
       "43       -0.215683          0.806270        -1.021953\n",
       "133       1.071690          1.170459        -0.098769\n",
       "123       0.226251          0.158032         0.068219\n",
       "127      -1.003478         -0.158696        -0.844782\n",
       "39        1.436766          1.030949         0.405817\n",
       "134      -0.619188          0.446929        -1.066117\n",
       "12       -0.926620          0.374850        -1.301470\n",
       "115      -0.273327          0.471409        -0.744736\n",
       "128       2.051631          0.582022         1.469609\n",
       "6        -0.427043         -0.050564        -0.376479\n",
       "86       -0.388614         -0.058233        -0.330381\n",
       "112       0.014891          0.291298        -0.276407\n",
       "191      -0.792119         -0.221722        -0.570396\n",
       "168       0.591327          1.317579        -0.726252\n",
       "137       1.302264          1.678927        -0.376662\n",
       "52        1.648126          1.079228         0.568898\n",
       "29       -0.676832          0.257760        -0.934591\n",
       "5        -1.310911          0.433789        -1.744700\n",
       "31       -0.407828          0.464039        -0.871868\n",
       "170      -1.080337         -0.184779        -0.895558\n",
       "51       -0.638403         -0.118023        -0.520380\n",
       "122      -0.465472          0.740833        -1.206305\n",
       "167      -0.350185          0.701854        -1.052039\n",
       "73       -0.580759          0.440764        -1.021523\n",
       "108      -1.675987         -0.297252        -1.378735\n",
       "151      -0.465472          0.647283        -1.112755\n",
       "40        0.495254          0.868901        -0.373647\n",
       "119      -1.426198         -0.295927        -1.130271"
      ]
     },
     "execution_count": 24,
     "metadata": {},
     "output_type": "execute_result"
    }
   ],
   "source": [
    "init_w = initialize_weights(x_test, random = True)\n",
    "y_hat_test = predict(x_test, init_w)\n",
    "y_hat_test_df = pd.DataFrame({'Actual Values': y_test, 'Predicted Values': y_hat_test})\n",
    "y_hat_test_df['Residual Values'] = y_hat_test_df['Actual Values'] - y_hat_test_df['Predicted Values']\n",
    "y_hat_test_df"
   ]
  },
  {
   "cell_type": "code",
   "execution_count": 25,
   "id": "14ccc409",
   "metadata": {},
   "outputs": [
    {
     "name": "stdout",
     "output_type": "stream",
     "text": [
      "Cost of the predicted values: 0.4212632009624256\n"
     ]
    }
   ],
   "source": [
    "test_cost = compute_cost(x_test, y_test, init_w)\n",
    "test_cost\n",
    "print(\"Cost of the predicted values:\", test_cost)"
   ]
  },
  {
   "cell_type": "markdown",
   "id": "b0692be3",
   "metadata": {},
   "source": [
    "### Predict the quantitative response y on the train set"
   ]
  },
  {
   "cell_type": "code",
   "execution_count": 26,
   "id": "2b0f685e",
   "metadata": {},
   "outputs": [
    {
     "data": {
      "image/png": "[encoded data removed]",
      "text/plain": [
       "<Figure size 1080x576 with 1 Axes>"
      ]
     },
     "metadata": {
      "needs_background": "light"
     },
     "output_type": "display_data"
    }
   ],
   "source": [
    "init_w = initialize_weights(x_train, random = True)\n",
    "\n",
    "alpha = 0.01               # value of alpha\n",
    "iterations = 10000         # number of iterations\n",
    "\n",
    "# gradient descent algorithm for training and testing\n",
    "weights_matrix_training, cost_matrix_training = grad_descent(x_train, y_train, init_w, alpha, iterations)\n",
    "weights_matrix_testing, cost_matrix_testing = grad_descent(x_test, y_test, init_w, alpha, iterations)\n",
    "\n",
    "# predicting the quantitative response using the train set\n",
    "y_hat_train = predict(x_train, weights_matrix_training[-1])\n",
    "\n",
    "# plotting the actual and predicted response of the train set\n",
    "plt.figure(figsize=(15,8))\n",
    "plt.xlabel('Actual Quantitative Response')\n",
    "plt.ylabel('Predicted Quantitative Response')\n",
    "plt.title('Actual VS Predicted Quantitative Response on Train Set')\n",
    "plt.scatter(y_train, y_hat_train)\n",
    "plt.plot(y_train, y_train, color=\"black\")\n",
    "plt.text(0.5, 0.20, f\"Mean Squared Error: {mean_squared_error(y_train, y_hat_train)}\", color='red')\n",
    "plt.show()"
   ]
  },
  {
   "cell_type": "markdown",
   "id": "84d9f495",
   "metadata": {},
   "source": [
    "#### Based on the figure, the MSE is 0.098, in which we can conclude that the model is an accurate model."
   ]
  },
  {
   "cell_type": "markdown",
   "id": "29620797",
   "metadata": {},
   "source": [
    "### Predict the quantitative response y on the test set"
   ]
  },
  {
   "cell_type": "code",
   "execution_count": 27,
   "id": "45972522",
   "metadata": {},
   "outputs": [
    {
     "data": {
      "image/png": "[encoded data removed]",
      "text/plain": [
       "<Figure size 1080x576 with 1 Axes>"
      ]
     },
     "metadata": {
      "needs_background": "light"
     },
     "output_type": "display_data"
    }
   ],
   "source": [
    "# quantitative response using the test set\n",
    "y_hat_test = predict(x_test, weights_matrix_training[-1])\n",
    "\n",
    "# plotting the actual and predicted response of the test set\n",
    "plt.figure(figsize=(15,8))\n",
    "plt.xlabel('Actual Quantitative Response')\n",
    "plt.ylabel('Predicted Quantitative Response')\n",
    "plt.title('Actual VS Predicted Quantitative Response on Test Set')\n",
    "plt.scatter(y_test, y_hat_test)\n",
    "plt.plot(y_test, y_test, color=\"black\")\n",
    "plt.text(0.5, 0.20, f\"Mean Squared Error: {mean_squared_error(y_test, y_hat_test)}\", color='green')\n",
    "plt.show()"
   ]
  },
  {
   "cell_type": "markdown",
   "id": "8a7af535",
   "metadata": {},
   "source": [
    "#### For the test set, the MSE is 0.12, in which a way higher than the training set. Therefore it is less accurate than the model in the training set."
   ]
  },
  {
   "cell_type": "markdown",
   "id": "dd2ce38f",
   "metadata": {},
   "source": [
    "### Predict the sales on the actual data"
   ]
  },
  {
   "cell_type": "code",
   "execution_count": 29,
   "id": "04d8b0fb",
   "metadata": {},
   "outputs": [
    {
     "data": {
      "text/html": [
       "<div>\n",
       "<style scoped>\n",
       "    .dataframe tbody tr th:only-of-type {\n",
       "        vertical-align: middle;\n",
       "    }\n",
       "\n",
       "    .dataframe tbody tr th {\n",
       "        vertical-align: top;\n",
       "    }\n",
       "\n",
       "    .dataframe thead th {\n",
       "        text-align: right;\n",
       "    }\n",
       "</style>\n",
       "<table border=\"1\" class=\"dataframe\">\n",
       "  <thead>\n",
       "    <tr style=\"text-align: right;\">\n",
       "      <th></th>\n",
       "      <th>TV</th>\n",
       "      <th>Radio</th>\n",
       "      <th>Newspaper</th>\n",
       "      <th>Sales</th>\n",
       "      <th>Predicted Sales</th>\n",
       "      <th>Residuals</th>\n",
       "    </tr>\n",
       "  </thead>\n",
       "  <tbody>\n",
       "    <tr>\n",
       "      <th>0</th>\n",
       "      <td>230.308426</td>\n",
       "      <td>37.836477</td>\n",
       "      <td>69.296979</td>\n",
       "      <td>22.120270</td>\n",
       "      <td>20.675777</td>\n",
       "      <td>1.444493</td>\n",
       "    </tr>\n",
       "    <tr>\n",
       "      <th>1</th>\n",
       "      <td>44.242678</td>\n",
       "      <td>39.340241</td>\n",
       "      <td>45.136502</td>\n",
       "      <td>10.390910</td>\n",
       "      <td>12.589189</td>\n",
       "      <td>-2.198279</td>\n",
       "    </tr>\n",
       "    <tr>\n",
       "      <th>2</th>\n",
       "      <td>16.874171</td>\n",
       "      <td>45.956803</td>\n",
       "      <td>69.397230</td>\n",
       "      <td>9.288149</td>\n",
       "      <td>12.748384</td>\n",
       "      <td>-3.460234</td>\n",
       "    </tr>\n",
       "    <tr>\n",
       "      <th>3</th>\n",
       "      <td>151.511186</td>\n",
       "      <td>41.345260</td>\n",
       "      <td>58.570128</td>\n",
       "      <td>18.511236</td>\n",
       "      <td>17.792116</td>\n",
       "      <td>0.719120</td>\n",
       "    </tr>\n",
       "    <tr>\n",
       "      <th>4</th>\n",
       "      <td>180.884712</td>\n",
       "      <td>10.768723</td>\n",
       "      <td>58.469877</td>\n",
       "      <td>12.897183</td>\n",
       "      <td>13.308704</td>\n",
       "      <td>-0.411521</td>\n",
       "    </tr>\n",
       "    <tr>\n",
       "      <th>...</th>\n",
       "      <td>...</td>\n",
       "      <td>...</td>\n",
       "      <td>...</td>\n",
       "      <td>...</td>\n",
       "      <td>...</td>\n",
       "      <td>...</td>\n",
       "    </tr>\n",
       "    <tr>\n",
       "      <th>195</th>\n",
       "      <td>37.926869</td>\n",
       "      <td>3.650906</td>\n",
       "      <td>13.757957</td>\n",
       "      <td>7.583883</td>\n",
       "      <td>5.399965</td>\n",
       "      <td>2.183918</td>\n",
       "    </tr>\n",
       "    <tr>\n",
       "      <th>196</th>\n",
       "      <td>94.067396</td>\n",
       "      <td>4.853917</td>\n",
       "      <td>8.043654</td>\n",
       "      <td>9.689153</td>\n",
       "      <td>8.088567</td>\n",
       "      <td>1.600586</td>\n",
       "    </tr>\n",
       "    <tr>\n",
       "      <th>197</th>\n",
       "      <td>177.075176</td>\n",
       "      <td>9.264959</td>\n",
       "      <td>6.339388</td>\n",
       "      <td>12.796932</td>\n",
       "      <td>12.595523</td>\n",
       "      <td>0.201410</td>\n",
       "    </tr>\n",
       "    <tr>\n",
       "      <th>198</th>\n",
       "      <td>283.942679</td>\n",
       "      <td>42.047016</td>\n",
       "      <td>66.289451</td>\n",
       "      <td>25.528802</td>\n",
       "      <td>23.835787</td>\n",
       "      <td>1.693015</td>\n",
       "    </tr>\n",
       "    <tr>\n",
       "      <th>199</th>\n",
       "      <td>232.313445</td>\n",
       "      <td>8.563202</td>\n",
       "      <td>8.645159</td>\n",
       "      <td>13.398438</td>\n",
       "      <td>14.923670</td>\n",
       "      <td>-1.525232</td>\n",
       "    </tr>\n",
       "  </tbody>\n",
       "</table>\n",
       "<p>200 rows × 6 columns</p>\n",
       "</div>"
      ],
      "text/plain": [
       "             TV      Radio  Newspaper      Sales  Predicted Sales  Residuals\n",
       "0    230.308426  37.836477  69.296979  22.120270        20.675777   1.444493\n",
       "1     44.242678  39.340241  45.136502  10.390910        12.589189  -2.198279\n",
       "2     16.874171  45.956803  69.397230   9.288149        12.748384  -3.460234\n",
       "3    151.511186  41.345260  58.570128  18.511236        17.792116   0.719120\n",
       "4    180.884712  10.768723  58.469877  12.897183        13.308704  -0.411521\n",
       "..          ...        ...        ...        ...              ...        ...\n",
       "195   37.926869   3.650906  13.757957   7.583883         5.399965   2.183918\n",
       "196   94.067396   4.853917   8.043654   9.689153         8.088567   1.600586\n",
       "197  177.075176   9.264959   6.339388  12.796932        12.595523   0.201410\n",
       "198  283.942679  42.047016  66.289451  25.528802        23.835787   1.693015\n",
       "199  232.313445   8.563202   8.645159  13.398438        14.923670  -1.525232\n",
       "\n",
       "[200 rows x 6 columns]"
      ]
     },
     "execution_count": 29,
     "metadata": {},
     "output_type": "execute_result"
    }
   ],
   "source": [
    "df_standardize\n",
    "\n",
    "#Add a new column which is the predicted sales\n",
    "df_standardize['Predicted Sales'] = predict(df_standardize[['bias', 'TV', 'Radio', 'Newspaper']], weights_matrix_training[-1])\n",
    "\n",
    "#Revert back the standardized data into the original form \n",
    "df_standardize['TV'] = df_standardize['TV'] * df['TV'].std() + df['TV'].mean()\n",
    "df_standardize['Radio'] = df_standardize['Radio'] * df['Radio'].std() + df['Radio'].mean()\n",
    "df_standardize['Newspaper'] = df_standardize['Newspaper'] * df['Newspaper'].std() + df['Newspaper'].mean()\n",
    "df_standardize['Sales'] = df_standardize['Sales'] * df['Sales'].std() + df['Sales'].mean()\n",
    "df_standardize['Predicted Sales'] = df_standardize['Predicted Sales'] * df['Sales'].std() + df['Sales'].mean()\n",
    "\n",
    "#Insert Residuals column\n",
    "df_standardize['Residuals'] = df_standardize['Sales'] - df_standardize['Predicted Sales']\n",
    "\n",
    "# Drop all_ones column\n",
    "df_standardize.drop('bias', axis = 1, inplace = True)\n",
    "\n",
    "df_standardize"
   ]
  },
  {
   "cell_type": "code",
   "execution_count": 30,
   "id": "e7fd0a1c",
   "metadata": {},
   "outputs": [
    {
     "data": {
      "image/png": "[encoded data removed]",
      "text/plain": [
       "<Figure size 1080x576 with 1 Axes>"
      ]
     },
     "metadata": {
      "needs_background": "light"
     },
     "output_type": "display_data"
    }
   ],
   "source": [
    "plt.figure(figsize=(15,8))\n",
    "plt.plot(cost_matrix_training, label='Train Cost')\n",
    "plt.plot(cost_matrix_testing, label='Test Cost')\n",
    "plt.xlabel('Iterations')\n",
    "plt.ylabel('Cost')\n",
    "plt.title('Cost over Iterations')\n",
    "plt.legend()\n",
    "plt.show()"
   ]
  },
  {
   "cell_type": "markdown",
   "id": "e460e154",
   "metadata": {},
   "source": [
    "#### In the cost vs iterations plot, it can be seen that the model becomes more accurate if there is more iterations."
   ]
  },
  {
   "cell_type": "markdown",
   "id": "72ea5ff9",
   "metadata": {},
   "source": [
    "# Questions"
   ]
  },
  {
   "cell_type": "markdown",
   "id": "f0cf1363",
   "metadata": {},
   "source": [
    "### 1. What are the optimal weights found by your implemented gradient descent? Plug it into the linear model."
   ]
  },
  {
   "cell_type": "code",
   "execution_count": 31,
   "id": "90424844",
   "metadata": {},
   "outputs": [
    {
     "name": "stdout",
     "output_type": "stream",
     "text": [
      "Optimal Weights: [0.00205049 0.72967516 0.53842028 0.02079669]\n",
      "hΘ(x) = 0.002050489151117927 + 0.7296751593382628*TV + 0.5384202815746951*Radio + 0.020796693492943*Newspaper\n"
     ]
    }
   ],
   "source": [
    "init_w = initialize_weights(x_train)\n",
    "\n",
    "alpha = 0.01    \n",
    "iterations = 50000                                                  \n",
    "\n",
    "we, co = grad_descent(x_train, y_train, init_w, alpha, iterations)\n",
    "optimal_weights = we[-1]\n",
    "print(f\"Optimal Weights: {optimal_weights}\") \n",
    "\n",
    "# linear model\n",
    "print(f\"hΘ(x) = {optimal_weights[0]} + {optimal_weights[1]}*TV + {optimal_weights[2]}*Radio + {optimal_weights[3]}*Newspaper\")"
   ]
  },
  {
   "cell_type": "markdown",
   "id": "3f6d2565",
   "metadata": {},
   "source": [
    "#### The weights vary depending on the feature. The TV data got the highest weights among the four weights."
   ]
  },
  {
   "cell_type": "markdown",
   "id": "7ce0c439",
   "metadata": {},
   "source": [
    "### 2. Provide a scatter plot of the (y^i) hut and y^i for both the train and test set."
   ]
  },
  {
   "cell_type": "code",
   "execution_count": 38,
   "id": "d75ae546",
   "metadata": {},
   "outputs": [
    {
     "data": {
      "image/png": "[encoded data removed]",
      "text/plain": [
       "<Figure size 432x288 with 1 Axes>"
      ]
     },
     "metadata": {
      "needs_background": "light"
     },
     "output_type": "display_data"
    }
   ],
   "source": [
    "# For training data\n",
    "predict_train = predict(x_train, optimal_weights)\n",
    "plt.scatter(y_train, predict_train)\n",
    "plt.xlabel('Actual y values')\n",
    "plt.ylabel('Predicted y values')\n",
    "plt.title('Actual Y values VS predicted Y values in TRAIN SET')\n",
    "plt.plot(y_train, y_train, color='Black')\n",
    "plt.show()"
   ]
  },
  {
   "cell_type": "code",
   "execution_count": 39,
   "id": "853fc1ce",
   "metadata": {},
   "outputs": [
    {
     "name": "stdout",
     "output_type": "stream",
     "text": [
      "The r2 score is 0.8979173587493009\n"
     ]
    }
   ],
   "source": [
    "print(f\"The r2 score is {r2_score(y_train, predict_train)}\")"
   ]
  },
  {
   "cell_type": "code",
   "execution_count": 41,
   "id": "f499fbc7",
   "metadata": {},
   "outputs": [
    {
     "data": {
      "image/png": "[encoded data removed]",
      "text/plain": [
       "<Figure size 432x288 with 1 Axes>"
      ]
     },
     "metadata": {
      "needs_background": "light"
     },
     "output_type": "display_data"
    }
   ],
   "source": [
    "#For testing data\n",
    "predict_test = predict(x_test, optimal_weights)\n",
    "plt.scatter(y_test, predict_test)\n",
    "plt.xlabel('Actual y values')\n",
    "plt.ylabel('Predicted y values')\n",
    "plt.title('Actual Y values VS Predicted Y values in TEST SET')\n",
    "plt.plot(y_test, y_test, color='black')\n",
    "plt.show()"
   ]
  },
  {
   "cell_type": "code",
   "execution_count": 42,
   "id": "d8a1729f",
   "metadata": {},
   "outputs": [
    {
     "name": "stdout",
     "output_type": "stream",
     "text": [
      "The r2 score is 0.8899310314828994\n"
     ]
    }
   ],
   "source": [
    "print(f\"The r2 score is {r2_score(y_test, predict_test)}\")"
   ]
  },
  {
   "cell_type": "markdown",
   "id": "f45e0957",
   "metadata": {},
   "source": [
    "### 3. What happems to the error, r2, and cost as the number of iterations increase?"
   ]
  },
  {
   "cell_type": "code",
   "execution_count": 44,
   "id": "b3c76947",
   "metadata": {},
   "outputs": [
    {
     "data": {
      "image/png": "[encoded data removed]",
      "text/plain": [
       "<Figure size 1080x576 with 1 Axes>"
      ]
     },
     "metadata": {
      "needs_background": "light"
     },
     "output_type": "display_data"
    }
   ],
   "source": [
    "MSE_array = []\n",
    "for i in range(iterations):\n",
    "    MSE = mean_squared_error(y_train, predict(x_train, we[i]))\n",
    "    MSE_array.append(MSE)\n",
    "\n",
    "plt.figure(figsize=(15,8))\n",
    "plt.plot(MSE_array[0:1000])\n",
    "plt.xlabel('Iterations')\n",
    "plt.ylabel('MSE')\n",
    "plt.xticks(np.arange(0, 1000, 100))\n",
    "plt.show()"
   ]
  },
  {
   "cell_type": "code",
   "execution_count": 46,
   "id": "6ebb4625",
   "metadata": {},
   "outputs": [
    {
     "data": {
      "image/png": "[encoded data removed]",
      "text/plain": [
       "<Figure size 1080x576 with 1 Axes>"
      ]
     },
     "metadata": {
      "needs_background": "light"
     },
     "output_type": "display_data"
    },
    {
     "name": "stdout",
     "output_type": "stream",
     "text": [
      "The maximum r^2 score is 0.8979173587493009\n"
     ]
    }
   ],
   "source": [
    "r2_array = []\n",
    "for i in range(iterations):\n",
    "    r2 = r2_score(y_train, predict(x_train, we[i]))\n",
    "    r2_array.append(r2)\n",
    "\n",
    "plt.figure(figsize=(15,8))\n",
    "plt.plot(r2_array)\n",
    "plt.xlabel('Iterations')\n",
    "plt.ylabel('r^2 score')\n",
    "plt.title('r^2 score over Iterations')\n",
    "plt.yticks(np.arange(0, 1, 0.05))\n",
    "plt.axhline(y=max(r2_array), color='black')\n",
    "plt.show()\n",
    "\n",
    "print(f\"The maximum r^2 score is {max(r2_array)}\")"
   ]
  },
  {
   "cell_type": "code",
   "execution_count": 47,
   "id": "2323ee92",
   "metadata": {},
   "outputs": [
    {
     "data": {
      "image/png": "[encoded data removed]",
      "text/plain": [
       "<Figure size 1080x576 with 1 Axes>"
      ]
     },
     "metadata": {
      "needs_background": "light"
     },
     "output_type": "display_data"
    }
   ],
   "source": [
    "# cost over iterations plot\n",
    "plot_costs(co)"
   ]
  },
  {
   "cell_type": "markdown",
   "id": "be275cea",
   "metadata": {},
   "source": [
    "### 4. Visualize the cost function of each learning rate in only one plot"
   ]
  },
  {
   "cell_type": "code",
   "execution_count": 48,
   "id": "9855d455",
   "metadata": {},
   "outputs": [
    {
     "name": "stdout",
     "output_type": "stream",
     "text": [
      "The optimal number of iterations is 2663\n"
     ]
    }
   ],
   "source": [
    "# number of optimal iterations\n",
    "def optimal_iterations(max_r2, r2_array):\n",
    "    for i in range(len(r2_array)):\n",
    "        if r2_array[i] == max_r2:\n",
    "            return i\n",
    "\n",
    "optimal_num = optimal_iterations(max(r2_array), r2_array)\n",
    "print(f\"The optimal number of iterations is {optimal_num}\")"
   ]
  },
  {
   "cell_type": "code",
   "execution_count": 49,
   "id": "0820aa6b",
   "metadata": {},
   "outputs": [
    {
     "name": "stdout",
     "output_type": "stream",
     "text": [
      "The cost at the optimal number of iterations is 0.04903839042480687\n",
      "The weights at the optimal number of iterations are [0.00205049 0.72967516 0.53842028 0.0207967 ]\n",
      "\n",
      "The cost at the last iteration is 0.04903839042480687\n",
      "The weights at the last iteration are [0.00205049 0.72967516 0.53842028 0.02079669]\n"
     ]
    }
   ],
   "source": [
    "# cost and weights at the optimal iterations and \n",
    "print(f\"The cost at the optimal number of iterations is {co[optimal_num]}\")\n",
    "print(f\"The weights at the optimal number of iterations are {we[optimal_num]}\\n\")\n",
    "\n",
    "#Last iteration\n",
    "print(f\"The cost at the last iteration is {co[-1]}\")\n",
    "print(f\"The weights at the last iteration are {we[-1]}\")"
   ]
  },
  {
   "cell_type": "code",
   "execution_count": 50,
   "id": "f4c57747",
   "metadata": {},
   "outputs": [
    {
     "data": {
      "image/png": "[encoded data removed]",
      "text/plain": [
       "<Figure size 1080x576 with 1 Axes>"
      ]
     },
     "metadata": {
      "needs_background": "light"
     },
     "output_type": "display_data"
    }
   ],
   "source": [
    "# gradient descent algorithm\n",
    "def optimized_gda(x_val, y, init_w, alpha, iterations, diff_threshold):\n",
    "    last_iter = 0\n",
    "    we = []\n",
    "    co = []\n",
    "\n",
    "    for i in range(iterations):\n",
    "        init_w = update_weights(x_val, y, init_w, alpha)\n",
    "        we.append(init_w)\n",
    "        cost = compute_cost(x_val, y, init_w)\n",
    "        co.append(cost)\n",
    "\n",
    "        if i > 0 and diff_threshold > abs(co[i] - co[i - 1]):\n",
    "            last_iter = i\n",
    "            break\n",
    "        last_iter = i\n",
    "    \n",
    "    return we, co, last_iter\n",
    "\n",
    "iterations = 50000\n",
    "alpha = 0.01\n",
    "\n",
    "diff_threshold = 1.0e-15\n",
    "\n",
    "we, co, optimal_iterations = optimized_gda(x_train, y_train, init_w, alpha, iterations, diff_threshold)\n",
    "\n",
    "plot_costs(co)"
   ]
  },
  {
   "cell_type": "code",
   "execution_count": 51,
   "id": "94dc881d",
   "metadata": {},
   "outputs": [
    {
     "data": {
      "image/png": "[encoded data removed]",
      "text/plain": [
       "<Figure size 1296x432 with 1 Axes>"
      ]
     },
     "metadata": {
      "needs_background": "light"
     },
     "output_type": "display_data"
    }
   ],
   "source": [
    "init_w = initialize_weights(x_train)\n",
    "\n",
    "iterations = optimal_iterations\n",
    "\n",
    "learning_rates = [0.1, 0.01, 0.001, 0.0001, 0.2]\n",
    "\n",
    "cost_dict = {i:0 for i in learning_rates}\n",
    "error_dict = {i:0 for i in learning_rates}\n",
    "co_dict = {i:[] for i in learning_rates}\n",
    "\n",
    "for alpha in learning_rates:\n",
    "    we, co = grad_descent(x_train, y_train, init_w, alpha, iterations)\n",
    "    cost_dict[alpha] = co[-1]\n",
    "    from sklearn.metrics import mean_squared_error\n",
    "    error_dict[alpha] = mean_squared_error(y_train, predict(x_train, we[-1]))\n",
    "    co_dict[alpha] = co\n",
    "\n",
    "plt.figure(figsize=(18,6))\n",
    "for alpha in learning_rates:\n",
    "    plt.plot(co_dict[alpha], label = alpha)\n",
    "plt.xlabel('Iterations')\n",
    "plt.ylabel('Cost')\n",
    "plt.title('Cost over iterations for each learning rate')\n",
    "plt.legend()\n",
    "plt.show()"
   ]
  },
  {
   "cell_type": "code",
   "execution_count": 52,
   "id": "50841903",
   "metadata": {},
   "outputs": [
    {
     "data": {
      "text/html": [
       "<div>\n",
       "<style scoped>\n",
       "    .dataframe tbody tr th:only-of-type {\n",
       "        vertical-align: middle;\n",
       "    }\n",
       "\n",
       "    .dataframe tbody tr th {\n",
       "        vertical-align: top;\n",
       "    }\n",
       "\n",
       "    .dataframe thead th {\n",
       "        text-align: right;\n",
       "    }\n",
       "</style>\n",
       "<table border=\"1\" class=\"dataframe\">\n",
       "  <thead>\n",
       "    <tr style=\"text-align: right;\">\n",
       "      <th></th>\n",
       "      <th>Learning Rate</th>\n",
       "      <th>Cost</th>\n",
       "      <th>Error</th>\n",
       "    </tr>\n",
       "  </thead>\n",
       "  <tbody>\n",
       "    <tr>\n",
       "      <th>0</th>\n",
       "      <td>0.1000</td>\n",
       "      <td>0.049038</td>\n",
       "      <td>0.098077</td>\n",
       "    </tr>\n",
       "    <tr>\n",
       "      <th>1</th>\n",
       "      <td>0.0100</td>\n",
       "      <td>0.049038</td>\n",
       "      <td>0.098077</td>\n",
       "    </tr>\n",
       "    <tr>\n",
       "      <th>2</th>\n",
       "      <td>0.0010</td>\n",
       "      <td>0.057162</td>\n",
       "      <td>0.114323</td>\n",
       "    </tr>\n",
       "    <tr>\n",
       "      <th>3</th>\n",
       "      <td>0.0001</td>\n",
       "      <td>0.321904</td>\n",
       "      <td>0.643808</td>\n",
       "    </tr>\n",
       "    <tr>\n",
       "      <th>4</th>\n",
       "      <td>0.2000</td>\n",
       "      <td>0.049038</td>\n",
       "      <td>0.098077</td>\n",
       "    </tr>\n",
       "  </tbody>\n",
       "</table>\n",
       "</div>"
      ],
      "text/plain": [
       "   Learning Rate      Cost     Error\n",
       "0         0.1000  0.049038  0.098077\n",
       "1         0.0100  0.049038  0.098077\n",
       "2         0.0010  0.057162  0.114323\n",
       "3         0.0001  0.321904  0.643808\n",
       "4         0.2000  0.049038  0.098077"
      ]
     },
     "execution_count": 52,
     "metadata": {},
     "output_type": "execute_result"
    }
   ],
   "source": [
    "learning_rates = pd.DataFrame({'Learning Rate': list(cost_dict.keys()), 'Cost': list(cost_dict.values()), 'Error': list(error_dict.values())})\n",
    "learning_rates"
   ]
  },
  {
   "cell_type": "markdown",
   "id": "694d277d",
   "metadata": {},
   "source": [
    "#### The bigger the learning rate, the faster the model can develop in the less iterations. The smaller learning rate would require more iterations."
   ]
  },
  {
   "cell_type": "markdown",
   "id": "e8461903",
   "metadata": {},
   "source": [
    "### 5. Is there a relationship on the learning rate and the number of iterations?"
   ]
  },
  {
   "cell_type": "markdown",
   "id": "fea2a585",
   "metadata": {},
   "source": [
    "#### - The lesser learning rate requires more iterations. Shown in the plot above, the learning rate of 0.0001 is less steeper compared to the other learning rates. Thus the cost of the data moves slowly compared to the other rates. The learning rates of 0.1, 0.2, and 0.01 gradually changes in less than 500 iterations. Therefore, there is a relationship between the learning rate and the number of iterations."
   ]
  },
  {
   "cell_type": "markdown",
   "id": "12294d10",
   "metadata": {},
   "source": [
    "### 6. Compare the results with the results of ordinary least squares function."
   ]
  },
  {
   "cell_type": "code",
   "execution_count": 55,
   "id": "24d3aafb",
   "metadata": {},
   "outputs": [
    {
     "name": "stdout",
     "output_type": "stream",
     "text": [
      "The results of Gradient Descent is 0.8979173587493009\n",
      "The results of Ordinary Least Squares is 0.8979173587493009\n"
     ]
    }
   ],
   "source": [
    "from sklearn.linear_model import LinearRegression\n",
    "ordinary_least_squares = LinearRegression()\n",
    "ordinary_least_squares.fit(x_train, y_train).coef_\n",
    "r2_OLS = r2_score(y_train, ordinary_least_squares.predict(x_train))\n",
    "r2_GDA = r2_array[-1]\n",
    "\n",
    "print(f\"The results of Gradient Descent is {r2_GDA}\")\n",
    "print(f\"The results of Ordinary Least Squares is {r2_OLS}\")"
   ]
  },
  {
   "cell_type": "markdown",
   "id": "4bb21723",
   "metadata": {},
   "source": []
  }
 ],
 "metadata": {
  "kernelspec": {
   "display_name": "Python 3 (ipykernel)",
   "language": "python",
   "name": "python3"
  },
  "language_info": {
   "codemirror_mode": {
    "name": "ipython",
    "version": 3
   },
   "file_extension": ".py",
   "mimetype": "text/x-python",
   "name": "python",
   "nbconvert_exporter": "python",
   "pygments_lexer": "ipython3",
   "version": "3.9.12"
  }
 },
 "nbformat": 4,
 "nbformat_minor": 5
}
